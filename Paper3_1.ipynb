{
 "cells": [
  {
   "cell_type": "code",
   "execution_count": 1,
   "id": "a65e88a6",
   "metadata": {
    "execution": {
     "iopub.execute_input": "2025-04-03T10:05:56.627666Z",
     "iopub.status.busy": "2025-04-03T10:05:56.627338Z",
     "iopub.status.idle": "2025-04-03T10:08:45.581509Z",
     "shell.execute_reply": "2025-04-03T10:08:45.580612Z"
    },
    "papermill": {
     "duration": 168.959151,
     "end_time": "2025-04-03T10:08:45.583664",
     "exception": false,
     "start_time": "2025-04-03T10:05:56.624513",
     "status": "completed"
    },
    "tags": []
   },
   "outputs": [
    {
     "name": "stdout",
     "output_type": "stream",
     "text": [
      "SVM Model Trained Successfully\n",
      "Test Accuracy: 0.7108\n"
     ]
    }
   ],
   "source": [
    "import os\n",
    "import numpy as np\n",
    "import pandas as pd\n",
    "import cv2\n",
    "import tensorflow as tf\n",
    "from skimage.segmentation import morphological_chan_vese\n",
    "from skimage.filters import gaussian\n",
    "from skimage.feature import graycomatrix, graycoprops, local_binary_pattern\n",
    "from sklearn.model_selection import train_test_split\n",
    "from sklearn.svm import SVC\n",
    "import matplotlib.pyplot as plt\n",
    "\n",
    "IMAGES_FOLDER = \"/kaggle/input/glaucoma-datasets/G1020/Images\"\n",
    "MASK_FOLDER = \"/kaggle/input/glaucoma-datasets/G1020/Masks\"\n",
    "df = pd.read_csv(\"/kaggle/input/glaucoma-datasets/G1020/G1020.csv\")\n",
    "\n",
    "def segment_optic_disc(image):\n",
    "    gray = cv2.cvtColor(image, cv2.COLOR_RGB2GRAY) if len(image.shape) == 3 else image\n",
    "    smoothed = gaussian(gray, sigma=1)\n",
    "    segmented_mask = morphological_chan_vese(smoothed, iterations=100, init_level_set=\"checkerboard\")\n",
    "    return segmented_mask\n",
    "\n",
    "def load_data(df, image_size=(512, 512)):\n",
    "    images, labels = [], []\n",
    "    \n",
    "    for _, row in df.iterrows():\n",
    "        img_name, label = row['imageID'], row['binaryLabels']\n",
    "        img_path = os.path.join(IMAGES_FOLDER, img_name)\n",
    "        \n",
    "        if not os.path.exists(img_path):\n",
    "            continue\n",
    "\n",
    "        # Load and preprocess image\n",
    "        image = cv2.imread(img_path, cv2.IMREAD_COLOR)\n",
    "        image = cv2.cvtColor(image, cv2.COLOR_BGR2RGB)\n",
    "        image = cv2.resize(image, image_size)\n",
    "        gray = cv2.cvtColor(image, cv2.COLOR_RGB2GRAY)\n",
    "\n",
    "        # Image processing\n",
    "        edges = cv2.Laplacian(gray, cv2.CV_64F)\n",
    "        edges = cv2.convertScaleAbs(edges) \n",
    "        sharpened = cv2.addWeighted(gray, 1.5, edges, -0.5, 0)\n",
    "        clahe = cv2.createCLAHE(clipLimit=2.0, tileGridSize=(8, 8))\n",
    "        enhanced = clahe.apply(sharpened)\n",
    "        normalized = cv2.normalize(enhanced, None, 0, 255, cv2.NORM_MINMAX)\n",
    "        \n",
    "        images.append(normalized)\n",
    "        labels.append(label)\n",
    "    \n",
    "    return np.array(images), np.array(labels)\n",
    "\n",
    "def glcm_features(image):\n",
    "    glcm = graycomatrix(image, distances=[1], angles=[0], levels=256, symmetric=True, normed=True)\n",
    "    contrast = graycoprops(glcm, 'contrast')[0, 0]\n",
    "    correlation = graycoprops(glcm, 'correlation')[0, 0]\n",
    "    return contrast, correlation\n",
    "\n",
    "def compute_cslbp(image):\n",
    "    radius, n_points = 1, 8\n",
    "    return local_binary_pattern(image, n_points, radius, method='uniform')\n",
    "\n",
    "def extract_features(images):\n",
    "    feature_vectors = []\n",
    "    for image in images:\n",
    "        contrast, correlation = glcm_features(image)\n",
    "        lbp_hist = np.histogram(compute_cslbp(image).ravel(), bins=256, range=(0, 256))[0]\n",
    "        lbp_hist = lbp_hist / np.sum(lbp_hist)\n",
    "        feature_vectors.append(np.hstack((contrast, correlation, lbp_hist)))\n",
    "    return np.array(feature_vectors)\n",
    "\n",
    "def train_svm(features, labels):\n",
    "    svm = SVC(kernel='linear', probability=True)\n",
    "    svm.fit(features, labels)\n",
    "    return svm\n",
    "\n",
    "images, labels = load_data(df)\n",
    "if images.size == 0:\n",
    "    raise Exception(\"No images loaded. Check dataset paths.\")\n",
    "\n",
    "features = extract_features(images)\n",
    "\n",
    "X_train, X_test, y_train, y_test = train_test_split(features, labels, test_size=0.2, stratify=labels, random_state=42)\n",
    "\n",
    "svm_model = train_svm(X_train, y_train)\n",
    "print(\"SVM Model Trained Successfully\")\n",
    "\n",
    "accuracy = svm_model.score(X_test, y_test)\n",
    "print(f\"Test Accuracy: {accuracy:.4f}\")\n"
   ]
  }
 ],
 "metadata": {
  "kaggle": {
   "accelerator": "gpu",
   "dataSources": [
    {
     "datasetId": 6209,
     "sourceId": 9900,
     "sourceType": "datasetVersion"
    },
    {
     "datasetId": 539922,
     "sourceId": 986265,
     "sourceType": "datasetVersion"
    },
    {
     "datasetId": 1655371,
     "sourceId": 2716645,
     "sourceType": "datasetVersion"
    },
    {
     "datasetId": 2296461,
     "sourceId": 3863247,
     "sourceType": "datasetVersion"
    },
    {
     "datasetId": 6989734,
     "sourceId": 11195803,
     "sourceType": "datasetVersion"
    }
   ],
   "dockerImageVersionId": 30886,
   "isGpuEnabled": true,
   "isInternetEnabled": true,
   "language": "python",
   "sourceType": "notebook"
  },
  "kernelspec": {
   "display_name": "Python 3",
   "language": "python",
   "name": "python3"
  },
  "language_info": {
   "codemirror_mode": {
    "name": "ipython",
    "version": 3
   },
   "file_extension": ".py",
   "mimetype": "text/x-python",
   "name": "python",
   "nbconvert_exporter": "python",
   "pygments_lexer": "ipython3",
   "version": "3.10.12"
  },
  "papermill": {
   "default_parameters": {},
   "duration": 173.118567,
   "end_time": "2025-04-03T10:08:47.106837",
   "environment_variables": {},
   "exception": null,
   "input_path": "__notebook__.ipynb",
   "output_path": "__notebook__.ipynb",
   "parameters": {},
   "start_time": "2025-04-03T10:05:53.988270",
   "version": "2.6.0"
  }
 },
 "nbformat": 4,
 "nbformat_minor": 5
}
